{
 "cells": [
  {
   "cell_type": "markdown",
   "id": "cc583a79",
   "metadata": {},
   "source": [
    "## Multiprocessiong :\n",
    "* Program is a sequence of instruction written in a programming language.  \n",
    "\n",
    "* Multi-processing is useful in execution of CPU bound tasks."
   ]
  },
  {
   "cell_type": "code",
   "execution_count": 5,
   "id": "59e513dc",
   "metadata": {},
   "outputs": [
    {
     "name": "stdout",
     "output_type": "stream",
     "text": [
      "Square of 0:0\n",
      "Square of 1:1\n",
      "Square of 2:4\n",
      "Square of 3:9\n",
      "Square of 4:16\n",
      "\n",
      "\n",
      "Cube of 0:0\n",
      "Cube of 1:1\n",
      "Cube of 2:8\n",
      "Cube of 3:27\n",
      "Cube of 4:64\n",
      "\n",
      "\n",
      "Time-taken: 10.008076429367065\n"
     ]
    }
   ],
   "source": [
    "## importing modules:\n",
    "\n",
    "import multiprocessing\n",
    "import time\n",
    "\n",
    "\n",
    "def sq_num():\n",
    "    for i in range(5):\n",
    "        time.sleep(1)\n",
    "        print(f\"Square of {i}:{i*i}\")\n",
    "    print(\"\\n\")\n",
    "\n",
    "def cube_num():\n",
    "    for i in range(5):\n",
    "        time.sleep(1)\n",
    "        print(f\"Cube of {i}:{i*i*i}\")\n",
    "    print(\"\\n\")\n",
    "\n",
    "t=time.time()\n",
    "\n",
    "sq_num()\n",
    "cube_num()\n",
    "\n",
    "finish_time=time.time()-t\n",
    "print(\"Time-taken:\",finish_time)"
   ]
  },
  {
   "cell_type": "code",
   "execution_count": null,
   "id": "84255221",
   "metadata": {},
   "outputs": [
    {
     "name": "stdout",
     "output_type": "stream",
     "text": [
      "Time-taken: 0.2437300682067871\n"
     ]
    }
   ],
   "source": [
    "## Multi-proccesing implementation:\n",
    "\n",
    "\n",
    "    ## Multiproceesing in jupyter_notebook is problamatic .\n",
    "    ## If you want to see proper execution check the multiproccesing.py file.\n"
   ]
  },
  {
   "cell_type": "markdown",
   "id": "6741f9c7",
   "metadata": {},
   "source": [
    "## Multiprocessing with Process Pool Executor :\n",
    "Advanced technique for multiprocessing from concurrent.Futures ."
   ]
  },
  {
   "cell_type": "markdown",
   "id": "f60bac6e",
   "metadata": {},
   "source": [
    "## Multithreading : \n",
    "* Thread is an instance of program that is being executed.  \n",
    "\n",
    "* Multi-threading is useful to execute I/O bound tasks."
   ]
  },
  {
   "cell_type": "code",
   "execution_count": 7,
   "id": "f39cc991",
   "metadata": {},
   "outputs": [
    {
     "name": "stdout",
     "output_type": "stream",
     "text": [
      "Letter:a\n",
      "Letter:b\n",
      "Letter:c\n",
      "Letter:d\n",
      "Letter:e\n",
      "Number:0\n",
      "Number:1\n",
      "Number:2\n",
      "Number:3\n",
      "Number:4\n",
      "\n",
      "Finshed time:10.008744239807129\n"
     ]
    }
   ],
   "source": [
    "## Single-threaded program:\n",
    "## importing modules:\n",
    "\n",
    "import threading\n",
    "import time\n",
    "\n",
    "\n",
    "def print_num():\n",
    "    for i in range(5):\n",
    "        time.sleep(1)\n",
    "        print(f\"Number:{i}\")\n",
    "\n",
    "\n",
    "def print_letter():\n",
    "    for i in \"abcde\":\n",
    "        time.sleep(1)\n",
    "        print(f\"Letter:{i}\")\n",
    "\n",
    "\n",
    "t = time.time()\n",
    "\n",
    "## Function call:\n",
    "print_letter()\n",
    "print_num()\n",
    "\n",
    "time_taken = time.time() - t\n",
    "print(f\"\\nFinshed time:{time_taken}\")"
   ]
  },
  {
   "cell_type": "code",
   "execution_count": 12,
   "id": "00c9a658",
   "metadata": {},
   "outputs": [
    {
     "name": "stdout",
     "output_type": "stream",
     "text": [
      "Letter:a \n",
      "Number:0 \n",
      "Letter:b \n",
      "Number:1 \n",
      "Letter:c \n",
      "Number:2 \n",
      "Letter:d \n",
      "Number:3 \n",
      "Letter:e \n",
      "Number:4 \n",
      "\n",
      "Finshed time:5.042208194732666\n"
     ]
    }
   ],
   "source": [
    "## Multi-threaded program:\n",
    "## importing modules:\n",
    "\n",
    "import threading\n",
    "import time\n",
    "\n",
    "\n",
    "def print_num():\n",
    "    for i in range(5):\n",
    "        time.sleep(1)\n",
    "        print(f\"Number:{i} \")\n",
    "\n",
    "\n",
    "def print_letter():\n",
    "    for i in \"abcde\":\n",
    "        time.sleep(1)\n",
    "        print(f\"Letter:{i} \")\n",
    "\n",
    "\n",
    "## Creation of threads:\n",
    "t1 = threading.Thread(target=print_letter)\n",
    "t2 = threading.Thread(target=print_num)\n",
    "\n",
    "t = time.time()\n",
    "\n",
    "## Starting of threads:\n",
    "t1.start()\n",
    "t2.start()\n",
    "\n",
    "## After threads execution:\n",
    "t1.join()\n",
    "t2.join()\n",
    "\n",
    "time_taken = time.time() - t\n",
    "print(f\"\\nFinshed time:{time_taken}\")"
   ]
  },
  {
   "cell_type": "markdown",
   "id": "cd3fae35",
   "metadata": {},
   "source": [
    "## Multithreading with thread pool executor :\n",
    "Advanced technique in multithreading from concurrent.Futures ."
   ]
  },
  {
   "cell_type": "code",
   "execution_count": 21,
   "id": "7f3ec217",
   "metadata": {},
   "outputs": [
    {
     "name": "stdout",
     "output_type": "stream",
     "text": [
      "Number is :1\n",
      "Number is :2\n",
      "Number is :3\n",
      "Number is :4\n",
      "Number is :5\n",
      "Number is :6\n",
      "Time taken:1.0070018768310547\n"
     ]
    }
   ],
   "source": [
    "## Importing modules:\n",
    "from concurrent.futures  import ThreadPoolExecutor\n",
    "import time\n",
    "\n",
    "def print_num(i):\n",
    "    time.sleep(1)\n",
    "    return f\"Number is :{i}\"\n",
    "\n",
    "input=[1,2,3,4,5,6] ## Input list.\n",
    "\n",
    "t = time.time()     ## Start time.\n",
    "\n",
    "with ThreadPoolExecutor(max_workers=6) as executor:  ## No of threads = 6.\n",
    "    results=executor.map(print_num,input)\n",
    "    \n",
    "for result in results:\n",
    "    print(result)\n",
    "\n",
    "print(f\"Time taken:{time.time()-t}\")"
   ]
  }
 ],
 "metadata": {
  "kernelspec": {
   "display_name": "venv",
   "language": "python",
   "name": "python3"
  },
  "language_info": {
   "codemirror_mode": {
    "name": "ipython",
    "version": 3
   },
   "file_extension": ".py",
   "mimetype": "text/x-python",
   "name": "python",
   "nbconvert_exporter": "python",
   "pygments_lexer": "ipython3",
   "version": "3.13.5"
  }
 },
 "nbformat": 4,
 "nbformat_minor": 5
}
