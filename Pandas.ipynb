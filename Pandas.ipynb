{
 "cells": [
  {
   "cell_type": "markdown",
   "id": "1abfe8da",
   "metadata": {},
   "source": [
    "## Pandas :\n",
    "Pandas library offers data structures like Series and Data Frame.   \n",
    " \n",
    "1: Series - Series is a 1-D structure like an array.  \n",
    "2: Data_Frame - 2-D structure ,mutable size and lables axes."
   ]
  },
  {
   "cell_type": "code",
   "execution_count": 9,
   "id": "ee5627ce",
   "metadata": {},
   "outputs": [
    {
     "name": "stdout",
     "output_type": "stream",
     "text": [
      "Data Series with index: 0    1\n",
      "1    2\n",
      "2    3\n",
      "3    4\n",
      "4    5\n",
      "dtype: int64\n",
      "Data Type : <class 'pandas.core.series.Series'>\n"
     ]
    }
   ],
   "source": [
    "## Importing pandas:\n",
    "\n",
    "import pandas as pd \n",
    "\n",
    "## Creation of Series:\n",
    "\n",
    "data=[1,2,3,4,5]\n",
    "df = pd.Series(data)\n",
    "print(\"Data Series with index:\",df)\n",
    "print(\"Data Type :\",type(df))\n"
   ]
  },
  {
   "cell_type": "code",
   "execution_count": 16,
   "id": "33b3cba2",
   "metadata": {},
   "outputs": [
    {
     "name": "stdout",
     "output_type": "stream",
     "text": [
      "Data Series with index:\n",
      " a    1\n",
      "b    2\n",
      "c    3\n",
      "dtype: int64\n",
      "Output:\n",
      " 1    10\n",
      "2    20\n",
      "3    30\n",
      "4    40\n",
      "5    50\n",
      "dtype: int64\n"
     ]
    }
   ],
   "source": [
    "## Series from dictionary elements:\n",
    "\n",
    "data = {'a': 1, 'b': 2, 'c': 3}\n",
    "df = pd.Series(data)\n",
    "print(\"Data Series with index:\\n\",df)\n",
    "\n",
    "data=[10,20,30,40,50]   \n",
    "index=[1,2,3,4,5]\n",
    "print(\"Output:\\n\",pd.Series(data,index))\n"
   ]
  },
  {
   "cell_type": "code",
   "execution_count": 28,
   "id": "47281681",
   "metadata": {},
   "outputs": [
    {
     "name": "stdout",
     "output_type": "stream",
     "text": [
      "DataFrame:\n",
      "      Name  Age       City\n",
      "0  Aditya   20      Delhi\n",
      "1    Aman   21     Mumbai\n",
      "2  Anshul   22  Bangalore\n"
     ]
    }
   ],
   "source": [
    "## Creation of DataFrame:\n",
    "\n",
    "data={\n",
    "    'Name':['Aditya','Aman','Anshul'],\n",
    "    'Age':[20,21,22],\n",
    "    'City':['Delhi','Mumbai','Bangalore']\n",
    " }\n",
    "\n",
    "df = pd.DataFrame(data)\n",
    "print(\"DataFrame:\\n\",df)\n"
   ]
  },
  {
   "cell_type": "code",
   "execution_count": 29,
   "id": "7d659b68",
   "metadata": {},
   "outputs": [
    {
     "name": "stdout",
     "output_type": "stream",
     "text": [
      "Top 10 Record:\n",
      "   College_ID   IQ  Prev_Sem_Result  CGPA  Academic_Performance  \\\n",
      "0    CLG0030  107             6.61  6.28                     8   \n",
      "1    CLG0061   97             5.52  5.37                     8   \n",
      "2    CLG0036  109             5.36  5.83                     9   \n",
      "3    CLG0055  122             5.47  5.75                     6   \n",
      "4    CLG0004   96             7.91  7.69                     7   \n",
      "5    CLG0015   96             5.26  5.32                     7   \n",
      "6    CLG0071  123             6.68  6.58                     5   \n",
      "7    CLG0096  111             8.77  8.76                     7   \n",
      "8    CLG0097   92             6.47  6.33                     9   \n",
      "9    CLG0057  108             8.82  8.60                     4   \n",
      "\n",
      "  Internship_Experience  Extra_Curricular_Score  Communication_Skills  \\\n",
      "0                    No                       8                     8   \n",
      "1                    No                       7                     8   \n",
      "2                    No                       3                     1   \n",
      "3                   Yes                       1                     6   \n",
      "4                    No                       8                    10   \n",
      "5                    No                       5                     8   \n",
      "6                    No                       7                     8   \n",
      "7                    No                       3                     1   \n",
      "8                    No                       7                     8   \n",
      "9                    No                       5                     9   \n",
      "\n",
      "   Projects_Completed Placement  \n",
      "0                   4        No  \n",
      "1                   0        No  \n",
      "2                   1        No  \n",
      "3                   1        No  \n",
      "4                   2        No  \n",
      "5                   0        No  \n",
      "6                   2       Yes  \n",
      "7                   2       Yes  \n",
      "8                   5        No  \n",
      "9                   1        No  \n",
      "Last 10 Record:\n",
      "      College_ID   IQ  Prev_Sem_Result   CGPA  Academic_Performance  \\\n",
      "9990    CLG0046  121             5.58   5.27                     9   \n",
      "9991    CLG0005  102             7.28   6.86                    10   \n",
      "9992    CLG0062  109             9.92  10.09                     2   \n",
      "9993    CLG0056   77             7.57   7.39                     1   \n",
      "9994    CLG0064  117             8.71   8.44                     6   \n",
      "9995    CLG0021  119             8.41   8.29                     4   \n",
      "9996    CLG0098   70             9.25   9.34                     7   \n",
      "9997    CLG0066   89             6.08   6.25                     3   \n",
      "9998    CLG0045  107             8.77   8.92                     3   \n",
      "9999    CLG0060  109             9.41   9.77                     8   \n",
      "\n",
      "     Internship_Experience  Extra_Curricular_Score  Communication_Skills  \\\n",
      "9990                    No                       7                     3   \n",
      "9991                   Yes                       9                     3   \n",
      "9992                   Yes                       5                    10   \n",
      "9993                   Yes                       2                     6   \n",
      "9994                    No                       9                     4   \n",
      "9995                    No                       1                     8   \n",
      "9996                    No                       0                     7   \n",
      "9997                   Yes                       3                     9   \n",
      "9998                    No                       7                     5   \n",
      "9999                    No                       3                     5   \n",
      "\n",
      "      Projects_Completed Placement  \n",
      "9990                   2        No  \n",
      "9991                   1        No  \n",
      "9992                   3       Yes  \n",
      "9993                   3        No  \n",
      "9994                   4       Yes  \n",
      "9995                   0       Yes  \n",
      "9996                   2        No  \n",
      "9997                   5        No  \n",
      "9998                   1        No  \n",
      "9999                   5        No  \n"
     ]
    }
   ],
   "source": [
    "## Reading CSV files :\n",
    "\n",
    "data_frame = pd.read_csv(\"placement.csv\")\n",
    "\n",
    "## Use of head and tail :\n",
    "\n",
    "print(\"Top 10 Record:\\n\", data_frame.head(10))\n",
    "print(\"Last 10 Record:\\n\", data_frame.tail(10))"
   ]
  },
  {
   "cell_type": "code",
   "execution_count": 32,
   "id": "531a6001",
   "metadata": {},
   "outputs": [
    {
     "data": {
      "text/html": [
       "<div>\n",
       "<style scoped>\n",
       "    .dataframe tbody tr th:only-of-type {\n",
       "        vertical-align: middle;\n",
       "    }\n",
       "\n",
       "    .dataframe tbody tr th {\n",
       "        vertical-align: top;\n",
       "    }\n",
       "\n",
       "    .dataframe thead th {\n",
       "        text-align: right;\n",
       "    }\n",
       "</style>\n",
       "<table border=\"1\" class=\"dataframe\">\n",
       "  <thead>\n",
       "    <tr style=\"text-align: right;\">\n",
       "      <th></th>\n",
       "      <th>Name</th>\n",
       "      <th>Age</th>\n",
       "      <th>City</th>\n",
       "    </tr>\n",
       "  </thead>\n",
       "  <tbody>\n",
       "    <tr>\n",
       "      <th>0</th>\n",
       "      <td>Aditya</td>\n",
       "      <td>20</td>\n",
       "      <td>Delhi</td>\n",
       "    </tr>\n",
       "    <tr>\n",
       "      <th>1</th>\n",
       "      <td>Aman</td>\n",
       "      <td>21</td>\n",
       "      <td>Mumbai</td>\n",
       "    </tr>\n",
       "    <tr>\n",
       "      <th>2</th>\n",
       "      <td>Anshul</td>\n",
       "      <td>22</td>\n",
       "      <td>Bangalore</td>\n",
       "    </tr>\n",
       "  </tbody>\n",
       "</table>\n",
       "</div>"
      ],
      "text/plain": [
       "     Name  Age       City\n",
       "0  Aditya   20      Delhi\n",
       "1    Aman   21     Mumbai\n",
       "2  Anshul   22  Bangalore"
      ]
     },
     "execution_count": 32,
     "metadata": {},
     "output_type": "execute_result"
    }
   ],
   "source": [
    "df"
   ]
  },
  {
   "cell_type": "code",
   "execution_count": null,
   "id": "4a31d5c5",
   "metadata": {},
   "outputs": [
    {
     "name": "stdout",
     "output_type": "stream",
     "text": [
      "Accessing data using loc:\n",
      " Name    Aditya\n",
      "Age         20\n",
      "City     Delhi\n",
      "Name: 0, dtype: object\n",
      "Accessing data using iloc:\n",
      " 20\n",
      "Accessing data using at:\n",
      " Aditya\n"
     ]
    },
    {
     "name": "stderr",
     "output_type": "stream",
     "text": [
      "C:\\Users\\adity\\AppData\\Local\\Temp\\ipykernel_21844\\82862882.py:5: FutureWarning: Series.__getitem__ treating keys as positions is deprecated. In a future version, integer keys will always be treated as labels (consistent with DataFrame behavior). To access a value by position, use `ser.iloc[pos]`\n",
      "  print(\"Accessing data using iloc:\\n\",df.iloc[0][1])  # Accessing first row by index\n"
     ]
    }
   ],
   "source": [
    "## Accessing data from DataFrame:\n",
    "\n",
    "## using loc , iloc and at:\n",
    "print(\"Accessing data using loc:\\n\",df.loc[0])  # Accessing first row\n",
    "print(\"Accessing data using iloc:\\n\",df.iloc[0][1])  # Accessing first row by index\n",
    "print(\"Accessing data using at:\\n\",df.iat[0,0])  #"
   ]
  },
  {
   "cell_type": "code",
   "execution_count": 35,
   "id": "35040b83",
   "metadata": {},
   "outputs": [
    {
     "name": "stdout",
     "output_type": "stream",
     "text": [
      "Data Types:\n",
      " College_ID                 object\n",
      "IQ                          int64\n",
      "Prev_Sem_Result           float64\n",
      "CGPA                      float64\n",
      "Academic_Performance        int64\n",
      "Internship_Experience      object\n",
      "Extra_Curricular_Score      int64\n",
      "Communication_Skills        int64\n",
      "Projects_Completed          int64\n",
      "Placement                  object\n",
      "dtype: object\n",
      "\n",
      "\n",
      "Summary Statistics:\n",
      "                  IQ  Prev_Sem_Result          CGPA  Academic_Performance  \\\n",
      "count  10000.000000     10000.000000  10000.000000          10000.000000   \n",
      "mean      99.471800         7.535673      7.532379              5.546400   \n",
      "std       15.053101         1.447519      1.470141              2.873477   \n",
      "min       41.000000         5.000000      4.540000              1.000000   \n",
      "25%       89.000000         6.290000      6.290000              3.000000   \n",
      "50%       99.000000         7.560000      7.550000              6.000000   \n",
      "75%      110.000000         8.790000      8.770000              8.000000   \n",
      "max      158.000000        10.000000     10.460000             10.000000   \n",
      "\n",
      "       Extra_Curricular_Score  Communication_Skills  Projects_Completed  \n",
      "count            10000.000000          10000.000000        10000.000000  \n",
      "mean                 4.970900              5.561800            2.513400  \n",
      "std                  3.160103              2.900866            1.715959  \n",
      "min                  0.000000              1.000000            0.000000  \n",
      "25%                  2.000000              3.000000            1.000000  \n",
      "50%                  5.000000              6.000000            3.000000  \n",
      "75%                  8.000000              8.000000            4.000000  \n",
      "max                 10.000000             10.000000            5.000000  \n"
     ]
    }
   ],
   "source": [
    "## Data Extraction:\n",
    "\n",
    "print(\"Data Types:\\n\",data_frame.dtypes)  # Data types of each column\n",
    "\n",
    "print(\"\\n\\nSummary Statistics:\\n\",data_frame.describe())  # Summary statistics"
   ]
  }
 ],
 "metadata": {
  "kernelspec": {
   "display_name": "venv",
   "language": "python",
   "name": "python3"
  },
  "language_info": {
   "codemirror_mode": {
    "name": "ipython",
    "version": 3
   },
   "file_extension": ".py",
   "mimetype": "text/x-python",
   "name": "python",
   "nbconvert_exporter": "python",
   "pygments_lexer": "ipython3",
   "version": "3.13.5"
  }
 },
 "nbformat": 4,
 "nbformat_minor": 5
}
