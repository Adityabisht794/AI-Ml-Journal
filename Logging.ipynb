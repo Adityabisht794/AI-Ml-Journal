{
 "cells": [
  {
   "cell_type": "markdown",
   "id": "404a9a0a",
   "metadata": {},
   "source": [
    "# Logging:\n",
    "##### Logging is a crucial aspect of any application as it helps in keeping track of events ,errors and operational information .  \n",
    "\n",
    "##### Python has built in logging module which helps in emmiting of log messages ."
   ]
  },
  {
   "cell_type": "code",
   "execution_count": 4,
   "id": "7809b880",
   "metadata": {},
   "outputs": [],
   "source": [
    "## Importing logging module:\n",
    "import logging"
   ]
  },
  {
   "cell_type": "markdown",
   "id": "44ba253a",
   "metadata": {},
   "source": [
    "## Logging levels:\n",
    "##### 1.DEBUG: Detailed information, typically of interest only when diagnosing problems.\n",
    "##### 2.INFO: Confirmation that things are working as expected.\n",
    "##### 3.WARNING: An indication that something unexpected happened, or indicative of some problem in the near future.\n",
    "##### 4.ERROR: Due to a more serious problem, the software has not been able to perform some function.\n",
    "##### 5.CRITICAL: A very serious error, indicating that the program itself may be unable to continue running.\n"
   ]
  },
  {
   "cell_type": "code",
   "execution_count": 5,
   "id": "de5dcd66",
   "metadata": {},
   "outputs": [],
   "source": [
    "## Configuring logging setting:\n",
    "logging.basicConfig(\n",
    "    level=logging.DEBUG,\n",
    "    filename=\"app.log\",   ## Creates a log file named app.log.\n",
    "    filemode=\"w\",         ## Open the log file in write mode.\n",
    "    format=\"%(asctime)s - %(name)s - %(levelname)s - %(message)s\",\n",
    "    datefmt=\"%Y-%m-%d %H:%M:%S\"\n",
    ")\n",
    "\n",
    "## Demo of logging:\n",
    "logging.debug(\"This is a debug message\")\n",
    "logging.info(\"This is an info message\")\n",
    "logging.warning(\"This is a warning message\")\n",
    "logging.critical(\"This is a critical message\")\n",
    "logging.error(\"This is an error message\")"
   ]
  },
  {
   "cell_type": "code",
   "execution_count": 6,
   "id": "022a3dea",
   "metadata": {},
   "outputs": [],
   "source": [
    "## Logging with multiple modules:\n",
    "\n",
    "logger1=logging.getLogger(\"module1\")\n",
    "logger2 = logging.getLogger(\"module2\")\n",
    "\n",
    "logger1.setLevel = logging.DEBUG\n",
    "logger2.setLevel = logging.WARNING\n",
    "\n",
    "logging.basicConfig(\n",
    "    level=logging.DEBUG,\n",
    "    format=\"%(asctime)s - %(name)s - %(levelname)s - %(message)s\",\n",
    "    datefmt=\"%Y-%m-%d %H:%M:%S\"\n",
    ")\n",
    "\n",
    "## Demo of logging with multiple modules:\n",
    "\n",
    "logger1.debug(\"Debug message from module1\")\n",
    "logger1.info(\"Info message from module1\")\n",
    "logger2.warning(\"Warning message from module2\")\n",
    "logger2.error(\"Error message from module2\")"
   ]
  }
 ],
 "metadata": {
  "kernelspec": {
   "display_name": "venv",
   "language": "python",
   "name": "python3"
  },
  "language_info": {
   "codemirror_mode": {
    "name": "ipython",
    "version": 3
   },
   "file_extension": ".py",
   "mimetype": "text/x-python",
   "name": "python",
   "nbconvert_exporter": "python",
   "pygments_lexer": "ipython3",
   "version": "3.13.5"
  }
 },
 "nbformat": 4,
 "nbformat_minor": 5
}
