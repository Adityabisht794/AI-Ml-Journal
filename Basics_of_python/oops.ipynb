{
 "cells": [
  {
   "cell_type": "markdown",
   "id": "4b47d485",
   "metadata": {},
   "source": [
    "## Class: \n",
    "Blueprint or template for creation of Objects."
   ]
  },
  {
   "cell_type": "code",
   "execution_count": 1,
   "id": "b545c717",
   "metadata": {},
   "outputs": [
    {
     "name": "stdout",
     "output_type": "stream",
     "text": [
      "<__main__.car object at 0x00000243A96B52B0> <__main__.car object at 0x00000243A94BB890>\n"
     ]
    }
   ],
   "source": [
    "## Class creation \n",
    "class car:\n",
    "    ## Counstructor __init__\n",
    "    def __init__(self,windows,doors,seats):\n",
    "        self.windows=windows\n",
    "        self.doors=doors\n",
    "        self.seats=seats\n",
    "    def engine(self,power,torque,type):\n",
    "        self.power=power\n",
    "        self.torque=torque\n",
    "        self.type=type\n",
    "    \n",
    "## Creation of Object\n",
    "nano=car(4,5,4)\n",
    "hector=car(4,5,7)\n",
    "print(nano,hector)\n"
   ]
  },
  {
   "cell_type": "code",
   "execution_count": 2,
   "id": "ba88b5cd",
   "metadata": {},
   "outputs": [
    {
     "data": {
      "text/plain": [
       "['__class__',\n",
       " '__delattr__',\n",
       " '__dict__',\n",
       " '__dir__',\n",
       " '__doc__',\n",
       " '__eq__',\n",
       " '__firstlineno__',\n",
       " '__format__',\n",
       " '__ge__',\n",
       " '__getattribute__',\n",
       " '__getstate__',\n",
       " '__gt__',\n",
       " '__hash__',\n",
       " '__init__',\n",
       " '__init_subclass__',\n",
       " '__le__',\n",
       " '__lt__',\n",
       " '__module__',\n",
       " '__ne__',\n",
       " '__new__',\n",
       " '__reduce__',\n",
       " '__reduce_ex__',\n",
       " '__repr__',\n",
       " '__setattr__',\n",
       " '__sizeof__',\n",
       " '__static_attributes__',\n",
       " '__str__',\n",
       " '__subclasshook__',\n",
       " '__weakref__',\n",
       " 'engine']"
      ]
     },
     "execution_count": 2,
     "metadata": {},
     "output_type": "execute_result"
    }
   ],
   "source": [
    "dir(car)"
   ]
  },
  {
   "cell_type": "code",
   "execution_count": 3,
   "id": "f0e65438",
   "metadata": {},
   "outputs": [
    {
     "name": "stdout",
     "output_type": "stream",
     "text": [
      "30\n"
     ]
    }
   ],
   "source": [
    "nano.engine(30,110,\"electric\")\n",
    "print(nano.power)"
   ]
  },
  {
   "cell_type": "markdown",
   "id": "2fac7352",
   "metadata": {},
   "source": [
    " Modling a Bank Account\n",
    "\n",
    " "
   ]
  },
  {
   "cell_type": "code",
   "execution_count": 4,
   "id": "5e53392b",
   "metadata": {},
   "outputs": [],
   "source": [
    "class bank:\n",
    "    def __init__(self,owner,balance=0):\n",
    "        self.owner=owner\n",
    "        self.balance=balance\n",
    "    def deposit(self,amount):\n",
    "        self.amount=amount  \n",
    "        self.balance+=amount\n",
    "        print(f\"{amount} is deposited .New balance is {self.balance}\")\n",
    "    def withdraw(self,amount):\n",
    "        self.amount=amount\n",
    "        if amount>self.balance:\n",
    "            print(\"Insufficiant balance\")\n",
    "        else:\n",
    "            self.balance-=amount\n",
    "            print(f\"{amount} is deposited .New balance is {self.balance}\")\n",
    "\n",
    "    def getbalance(self):\n",
    "        return self.balance\n",
    "    \n"
   ]
  },
  {
   "cell_type": "code",
   "execution_count": 5,
   "id": "5f51c0db",
   "metadata": {},
   "outputs": [
    {
     "name": "stdout",
     "output_type": "stream",
     "text": [
      "10000\n",
      "1000 is deposited .New balance is 11000\n",
      "5000 is deposited .New balance is 6000\n"
     ]
    },
    {
     "data": {
      "text/plain": [
       "6000"
      ]
     },
     "execution_count": 5,
     "metadata": {},
     "output_type": "execute_result"
    }
   ],
   "source": [
    "## Creation of Object\n",
    "account=bank(\"Aditya\",10000)\n",
    "print(account.balance)\n",
    "account.deposit(1000)\n",
    "account.withdraw(5000)\n",
    "account.getbalance()"
   ]
  },
  {
   "cell_type": "markdown",
   "id": "18d86d1f",
   "metadata": {},
   "source": [
    "## Inhertance In Python : \n",
    "Fundamental concept of OOPS that allows class to inherit attributes and methods of another class."
   ]
  },
  {
   "cell_type": "code",
   "execution_count": 6,
   "id": "10d55f08",
   "metadata": {},
   "outputs": [
    {
     "data": {
      "text/plain": [
       "'Manual'"
      ]
     },
     "execution_count": 6,
     "metadata": {},
     "output_type": "execute_result"
    }
   ],
   "source": [
    "## Single Inhertance\n",
    "## Parent Class\n",
    "class car:\n",
    "    def __init__(self,window,door,transmission):\n",
    "        self.window=window\n",
    "        self.door=door\n",
    "        self.transmission=transmission\n",
    "    \n",
    "    def drive(self):\n",
    "        print(f\"User Drives{self.transmission}\")\n",
    "\n",
    "## Child Class\n",
    "class mahindra(car): ## Inherits Parent class Car.\n",
    "    def __init__(self,window,door,transmission,seats):\n",
    "        super().__init__(window,door,transmission) ## Super keyword is used to call Parent class methods.\n",
    "        self.seats=seats\n",
    "\n",
    "## Creating Object\n",
    "Bolero = mahindra(4, 5, \"Manual\", 7)\n",
    "Bolero.transmission"
   ]
  },
  {
   "cell_type": "code",
   "execution_count": 7,
   "id": "4e1ab0fb",
   "metadata": {},
   "outputs": [
    {
     "name": "stdout",
     "output_type": "stream",
     "text": [
      "Owner of Tony is: Pedro\n"
     ]
    }
   ],
   "source": [
    "## Multiple Inheritance\n",
    "## Parent class:1\n",
    "class animal:\n",
    "    def __init__(self,name):\n",
    "        self.name=name\n",
    "\n",
    "## Parent Class:2\n",
    "class pet:\n",
    "    def __init__(self,owner):\n",
    "        self.owner=owner\n",
    "\n",
    "## Child Class\n",
    "class dog(animal,pet):\n",
    "    def __init__(self,name,owner):\n",
    "        animal.__init__(self,name)     \n",
    "        pet.__init__(self,owner)\n",
    "\n",
    "## Object Creation\n",
    "\n",
    "puppy=dog(\"Tony\",\"Pedro\")\n",
    "print(f\"Owner of {puppy.name} is: {puppy.owner}\")"
   ]
  },
  {
   "cell_type": "markdown",
   "id": "2c8e346a",
   "metadata": {},
   "source": [
    "## Polymorphism : \n",
    "Core concept of OOPS that allows object of different classes to be treated as object of common superclass."
   ]
  },
  {
   "cell_type": "markdown",
   "id": "a07406d2",
   "metadata": {},
   "source": [
    "Method Overriding : Allows child class to redefine method already defined in parent class.\n"
   ]
  },
  {
   "cell_type": "code",
   "execution_count": 8,
   "id": "20399e33",
   "metadata": {},
   "outputs": [
    {
     "name": "stdout",
     "output_type": "stream",
     "text": [
      "Area: 20\n",
      "Area: 16\n",
      "Area: 78.5\n"
     ]
    }
   ],
   "source": [
    "## Method Overriding(Runtime Polymorphism)\n",
    "class shape:\n",
    "    pie = 3.14\n",
    "    def area(self):\n",
    "        return 0\n",
    "\n",
    "\n",
    "class rectangle(shape):\n",
    "    def __init__(self, l, b):\n",
    "        self.length = l\n",
    "        self.breadth = b\n",
    "\n",
    "    def area(self):\n",
    "        return self.length * self.breadth\n",
    "\n",
    "\n",
    "class square(shape):\n",
    "    def __init__(self, s):\n",
    "        self.side = s\n",
    "    def area(self):\n",
    "        return self.side * self.side\n",
    "\n",
    "\n",
    "class circle(shape):\n",
    "    def __init__(self, r):\n",
    "        self.radius = r\n",
    "\n",
    "    def area(self):\n",
    "        return self.pie * self.radius * self.radius\n",
    "\n",
    "\n",
    "# Object creation\n",
    "shapes = [rectangle(4, 5), square(4), circle(5)]\n",
    "\n",
    "# Polymorphism in action\n",
    "for s in shapes:\n",
    "    print(f\"Area: {s.area()}\")"
   ]
  },
  {
   "cell_type": "markdown",
   "id": "53edfcb3",
   "metadata": {},
   "source": [
    "## Polymorphism through abstract base classes.\n",
    "\n",
    "Abstract Base Classes(ABC) are used to define common methods for a group of related objects.\n",
    "Abstract classes are speacial classes and contain:  \n",
    "1. Abstract methods(Declared but not complete.)  \n",
    "2. Concrete methods(Fully implemented methods.)\n",
    "3. Attributes or variables."
   ]
  },
  {
   "cell_type": "code",
   "execution_count": 9,
   "id": "6cad89cd",
   "metadata": {},
   "outputs": [
    {
     "name": "stdout",
     "output_type": "stream",
     "text": [
      "Volume: 64\n",
      "Volume: 523.3333333333334\n"
     ]
    }
   ],
   "source": [
    "from abc import ABC, abstractmethod\n",
    "\n",
    "\n",
    "class shape(ABC):\n",
    "    @abstractmethod\n",
    "    def volume(self):\n",
    "        pass\n",
    "\n",
    "\n",
    "class cube(shape):\n",
    "    def __init__(self, s):\n",
    "        self.side = s\n",
    "\n",
    "    def volume(self):\n",
    "        return self.side**3\n",
    "\n",
    "\n",
    "class sphere(shape):\n",
    "    def __init__(self, r):\n",
    "        self.radius = r\n",
    "\n",
    "    def volume(self):\n",
    "        return (4 / 3) * 3.14 * (self.radius**3)\n",
    "\n",
    "\n",
    "# Object list\n",
    "shapes = [cube(4), sphere(5)]\n",
    "\n",
    "# Polymorphism in action\n",
    "for s in shapes:\n",
    "    print(f\"Volume: {s.volume()}\")\n",
    "\n"
   ]
  },
  {
   "cell_type": "markdown",
   "id": "785a9a01",
   "metadata": {},
   "source": [
    "## Encapsulation:\n",
    "Grouping of variables and methods into a single unit(class) and restricting their direct access from some of the object's components.  \n",
    "Access control is done with the help of:    \n",
    "\n",
    "1: Private  \n",
    "2: Public  \n",
    "3: Protected"
   ]
  },
  {
   "cell_type": "code",
   "execution_count": 10,
   "id": "1476d006",
   "metadata": {},
   "outputs": [
    {
     "name": "stdout",
     "output_type": "stream",
     "text": [
      "Id:1 Name:Aditya Age:22\n",
      "Id:2 Name:Tanya Age:20\n",
      "new id :10 Name:Aditya\n"
     ]
    }
   ],
   "source": [
    "class user:\n",
    "    def __init__(self,id,name,age):\n",
    "        self.__id=id                ## private variable\n",
    "        self._name=name             ## protected variable\n",
    "        self.age=age                ## public variabl\n",
    "\n",
    "    def get_function(self):         ## getter method\n",
    "        return self.__id            ## setter method\n",
    "\n",
    "    def set_function(self,id):\n",
    "        self.__id=id \n",
    "\n",
    "    def display(self):\n",
    "        print(f\"Id:{self.__id} Name:{self._name} Age:{self.age}\")\n",
    "\n",
    "users = [user(1, \"Aditya\", 22), user(2, \"Tanya\", 20)]\n",
    "for i in users:\n",
    "    i.display()\n",
    "\n",
    "users[0].set_function(10)\n",
    "print(f\"new id :{users[0].get_function()} Name:{users[0]._name}\")"
   ]
  },
  {
   "cell_type": "markdown",
   "id": "8f00ac6c",
   "metadata": {},
   "source": [
    "## Abstraction:\n",
    "Abstraction is the practice of hiding implementation and showing essential features.  \n",
    "Abstraction is achieved with :  \n",
    "\n",
    "1- Abstract Base Classes(ABC)  \n",
    "2- Abstract Methods"
   ]
  },
  {
   "cell_type": "code",
   "execution_count": 11,
   "id": "e14102bd",
   "metadata": {},
   "outputs": [],
   "source": [
    "from abc import ABC, abstractmethod\n",
    "\n",
    "\n",
    "class shape(ABC):\n",
    "    ## Definiton of abstract method which can be overriden in base/child classes.\n",
    "    @abstractmethod\n",
    "    def volume(self):\n",
    "        pass\n",
    "\n",
    "\n",
    "class cube(shape):\n",
    "    def __init__(self, s):\n",
    "        self.side = s\n",
    "\n",
    "    def volume(self):\n",
    "        return self.side**3\n",
    "\n",
    "\n",
    "class sphere(shape):\n",
    "    def __init__(self, r):\n",
    "        self.radius = r\n",
    "\n",
    "    def volume(self):\n",
    "        return (4 / 3) * 3.14 * (self.radius**3)"
   ]
  },
  {
   "cell_type": "markdown",
   "id": "511425f1",
   "metadata": {},
   "source": [
    "## Magic Methods || Dunder Methods :\n",
    "Magic methods are special methods that start and end with double underscroe.  \n",
    "These methods are used to define the behaviour of objects toward the built-in operators."
   ]
  },
  {
   "cell_type": "code",
   "execution_count": 12,
   "id": "aeabc0b5",
   "metadata": {},
   "outputs": [
    {
     "data": {
      "text/plain": [
       "['__class__',\n",
       " '__delattr__',\n",
       " '__dict__',\n",
       " '__dir__',\n",
       " '__doc__',\n",
       " '__eq__',\n",
       " '__firstlineno__',\n",
       " '__format__',\n",
       " '__ge__',\n",
       " '__getattribute__',\n",
       " '__getstate__',\n",
       " '__gt__',\n",
       " '__hash__',\n",
       " '__init__',\n",
       " '__init_subclass__',\n",
       " '__le__',\n",
       " '__lt__',\n",
       " '__module__',\n",
       " '__ne__',\n",
       " '__new__',\n",
       " '__reduce__',\n",
       " '__reduce_ex__',\n",
       " '__repr__',\n",
       " '__setattr__',\n",
       " '__sizeof__',\n",
       " '__static_attributes__',\n",
       " '__str__',\n",
       " '__subclasshook__',\n",
       " '__weakref__']"
      ]
     },
     "execution_count": 12,
     "metadata": {},
     "output_type": "execute_result"
    }
   ],
   "source": [
    "class user():\n",
    "    pass\n",
    "\n",
    "dir(user)\n",
    "\n",
    "## Below are some magic methods:"
   ]
  },
  {
   "cell_type": "markdown",
   "id": "b17c2e99",
   "metadata": {},
   "source": [
    "## Operator Overloading:\n",
    "Operator overloading is used to customize operators."
   ]
  },
  {
   "cell_type": "code",
   "execution_count": 13,
   "id": "e3c5671a",
   "metadata": {},
   "outputs": [
    {
     "name": "stdout",
     "output_type": "stream",
     "text": [
      "Vector(16,30,44)\n"
     ]
    }
   ],
   "source": [
    "## Customizing + operator to add vectors.\n",
    "\n",
    "class vector:\n",
    "\n",
    "    def __init__(self,x,y,z):\n",
    "        self.x = x\n",
    "        self.y = y\n",
    "        self.z = z\n",
    "\n",
    "    ## Customizing + operator\n",
    "\n",
    "    def __add__(self,other):\n",
    "        return vector(\n",
    "            self.x + other.x,\n",
    "            self.y + other.y,\n",
    "            self.z + other.z,\n",
    "        )\n",
    "    \n",
    "    def __repr__(self):\n",
    "        return f\"Vector({self.x},{self.y},{self.z})\"\n",
    "    \n",
    "## Creatio of Objects:\n",
    "\n",
    "v1 = vector(2,4,6)\n",
    "v2 = vector(4,6,8)\n",
    "v3 = vector(10,20,30)\n",
    "\n",
    "print(v1+v2+v3)"
   ]
  }
 ],
 "metadata": {
  "kernelspec": {
   "display_name": "Python 3",
   "language": "python",
   "name": "python3"
  },
  "language_info": {
   "codemirror_mode": {
    "name": "ipython",
    "version": 3
   },
   "file_extension": ".py",
   "mimetype": "text/x-python",
   "name": "python",
   "nbconvert_exporter": "python",
   "pygments_lexer": "ipython3",
   "version": "3.13.5"
  }
 },
 "nbformat": 4,
 "nbformat_minor": 5
}
