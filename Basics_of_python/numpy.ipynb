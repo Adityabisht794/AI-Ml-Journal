{
 "cells": [
  {
   "cell_type": "markdown",
   "id": "5a2a42df",
   "metadata": {},
   "source": [
    "## Numpy:\n",
    "Numpy library is used for scientific calculation and computing.  \n",
    "Supports arrays and matrices along with collection of mathematical functions to operate on these data strucures."
   ]
  },
  {
   "cell_type": "code",
   "execution_count": 45,
   "id": "edf16a9e",
   "metadata": {},
   "outputs": [
    {
     "name": "stdout",
     "output_type": "stream",
     "text": [
      "Dimension of Array-1: 1\n",
      "Type of Array1: <class 'numpy.ndarray'>\n"
     ]
    }
   ],
   "source": [
    "## Importing Numpy:\n",
    "\n",
    "import numpy as np \n",
    "\n",
    "arr1=np.array([1,2,3,4,5])\n",
    "print(\"Dimension of Array-1:\",arr1.ndim)       ## Dimension of arr1\n",
    "print(\"Type of Array1:\",type(arr1))\n"
   ]
  },
  {
   "cell_type": "markdown",
   "id": "ffa16b42",
   "metadata": {},
   "source": [
    "## Use of Reshape , N-dimension(ndim) , Arrange:\n"
   ]
  },
  {
   "cell_type": "code",
   "execution_count": 46,
   "id": "12b94ca5",
   "metadata": {},
   "outputs": [
    {
     "name": "stdout",
     "output_type": "stream",
     "text": [
      "[[1 2 3 4 5]]\n",
      "Dimension of Array-2: 2\n",
      "Array before reshaping:\n",
      " [1 2 3 4]\n",
      "Array after reshaping:\n",
      " [[1 2]\n",
      " [3 4]]\n",
      "Array-4: [ 0  3  6  9 12 15 18]\n"
     ]
    }
   ],
   "source": [
    "arr2 = arr1.reshape(1, 5)  ## Reshaped 1-row 5-columns\n",
    "print(arr2)\n",
    "print(\"Dimension of Array-2:\", arr2.ndim)\n",
    "\n",
    "arr3 = np.array([1, 2, 3, 4])\n",
    "print(\"Array before reshaping:\\n\", arr3)\n",
    "print(\"Array after reshaping:\\n\", arr3.reshape(2, 2))\n",
    "\n",
    "arr4=np.arange(0,20,3)\n",
    "print(\"Array-4:\",arr4)"
   ]
  },
  {
   "cell_type": "markdown",
   "id": "f3e2b296",
   "metadata": {},
   "source": [
    "## Creation of matrices using lib functions:"
   ]
  },
  {
   "cell_type": "code",
   "execution_count": 54,
   "id": "86f8f864",
   "metadata": {},
   "outputs": [
    {
     "name": "stdout",
     "output_type": "stream",
     "text": [
      "Ones Matrix:\n",
      " [[1 1 1 1]\n",
      " [1 1 1 1]\n",
      " [1 1 1 1]\n",
      " [1 1 1 1]]\n",
      "Identity Matrice:\n",
      " [[1. 0. 0. 0. 0.]\n",
      " [0. 1. 0. 0. 0.]\n",
      " [0. 0. 1. 0. 0.]\n",
      " [0. 0. 0. 1. 0.]\n",
      " [0. 0. 0. 0. 1.]]\n"
     ]
    }
   ],
   "source": [
    "## Use of ones function :\n",
    "print(\"Ones Matrix:\\n\",np.ones((4,4),int))\n",
    "\n",
    "\n",
    "## Use of eye function :\n",
    "print(\"Identity Matrice:\\n\",np.eye(5))"
   ]
  },
  {
   "cell_type": "markdown",
   "id": "4a81bc95",
   "metadata": {},
   "source": [
    "## Vectorized operations:"
   ]
  },
  {
   "cell_type": "code",
   "execution_count": 57,
   "id": "56a699b4",
   "metadata": {},
   "outputs": [
    {
     "name": "stdout",
     "output_type": "stream",
     "text": [
      "Sum: [ 3  5  7  9 11]\n",
      "Difference: [1 1 1 1 1]\n",
      "Product: [ 2  6 12 20 30]\n",
      "Quotient: [2.         1.5        1.33333333 1.25       1.2       ]\n",
      "Modulus: [0 1 1 1 1]\n"
     ]
    }
   ],
   "source": [
    "## Creation of arrays:\n",
    "\n",
    "v1 = np.array([2, 3, 4, 5, 6])\n",
    "v2 = np.array([1, 2, 3, 4, 5])\n",
    "\n",
    "## Vectorized OPerations:\n",
    "\n",
    "print(\"Sum:\", v1 + v2)\n",
    "print(\"Difference:\", v1 - v2)\n",
    "print(\"Product:\", v1 * v2)\n",
    "print(\"Quotient:\", v1 / v2)\n",
    "print(\"Modulus:\", v1 % v2)"
   ]
  },
  {
   "cell_type": "markdown",
   "id": "589cdd6f",
   "metadata": {},
   "source": [
    "## Universal Operations:"
   ]
  },
  {
   "cell_type": "code",
   "execution_count": 59,
   "id": "3ce412c4",
   "metadata": {},
   "outputs": [
    {
     "name": "stdout",
     "output_type": "stream",
     "text": [
      "Square root: [1.41421356 2.         2.44948974 2.82842712 3.16227766]\n",
      "Exponent: [7.38905610e+00 5.45981500e+01 4.03428793e+02 2.98095799e+03\n",
      " 2.20264658e+04]\n",
      "Sine: [ 0.90929743 -0.7568025  -0.2794155   0.98935825 -0.54402111]\n",
      "Logrithm: [0.69314718 1.38629436 1.79175947 2.07944154 2.30258509]\n"
     ]
    }
   ],
   "source": [
    "## Creation of array:\n",
    "\n",
    "v=np.array([2,4,6,8,10])\n",
    "\n",
    "## Universal Operation:\n",
    "\n",
    "print(\"Square root:\", np.sqrt(v))\n",
    "print(\"Exponent:\", np.exp(v))       ## e^1=2.718\n",
    "print(\"Sine:\", np.sin(v))          ## input should be in radian.\n",
    "print(\"Logrithm:\", np.log(v))      "
   ]
  },
  {
   "cell_type": "markdown",
   "id": "ae4ee0e7",
   "metadata": {},
   "source": [
    "## Array Slicing & Indexing :"
   ]
  },
  {
   "cell_type": "code",
   "execution_count": 78,
   "id": "deb8d0a0",
   "metadata": {},
   "outputs": [
    {
     "name": "stdout",
     "output_type": "stream",
     "text": [
      "2\n",
      "Matix:\n",
      " [[ 1  2  3]\n",
      " [ 3  4  5]\n",
      " [ 6  7  8]\n",
      " [ 9 10 11]]\n",
      "Slicing row no 1: [3 4 5]\n",
      "Slicing of matrix:\n",
      " [[ 2  3]\n",
      " [ 4  5]\n",
      " [ 7  8]\n",
      " [10 11]]\n"
     ]
    }
   ],
   "source": [
    "## Creation of array :\n",
    "v = np.array([\n",
    "    [1, 2, 3],\n",
    "    [3, 4, 5],\n",
    "    [6, 7, 8], \n",
    "    [9, 10, 11]])\n",
    "\n",
    "print(v.ndim)\n",
    "print(\"Matix:\\n\",v)\n",
    "\n",
    "## Performing Slicing :\n",
    "print(\"Slicing row no 1:\",v[1])\n",
    "print(\"Slicing of matrix:\\n\",v[0:,1:])"
   ]
  }
 ],
 "metadata": {
  "kernelspec": {
   "display_name": "Python 3",
   "language": "python",
   "name": "python3"
  },
  "language_info": {
   "codemirror_mode": {
    "name": "ipython",
    "version": 3
   },
   "file_extension": ".py",
   "mimetype": "text/x-python",
   "name": "python",
   "nbconvert_exporter": "python",
   "pygments_lexer": "ipython3",
   "version": "3.13.5"
  }
 },
 "nbformat": 4,
 "nbformat_minor": 5
}
