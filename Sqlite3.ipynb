{
 "cells": [
  {
   "cell_type": "markdown",
   "id": "60162e91",
   "metadata": {},
   "source": [
    "## Sqlite_3:\n",
    "Sqlite is lightweight sql suitable for embedded database systems."
   ]
  },
  {
   "cell_type": "code",
   "execution_count": 15,
   "id": "e396f057",
   "metadata": {},
   "outputs": [],
   "source": [
    "## Importing Sqlite3 module\n",
    "import sqlite3\n",
    "\n",
    "## Creating a connection to the database\n",
    "connection = sqlite3.connect('database.db')\n",
    "\n",
    "## Creating a cursor object using the connection\n",
    "cursor = connection.cursor()\n",
    "\n",
    "# Creating a table named 'users' with columns 'id', 'name', and 'age'\n",
    "cursor.execute('''\n",
    "CREATE TABLE IF NOT EXISTS users (\n",
    "    id INTEGER PRIMARY KEY AUTOINCREMENT,\n",
    "    name TEXT NOT NULL,\n",
    "    age INTEGER NOT NULL\n",
    ")\n",
    "''')\n",
    "\n",
    "# Committing the changes to the database\n",
    "connection.commit()"
   ]
  },
  {
   "cell_type": "code",
   "execution_count": 16,
   "id": "d81f4864",
   "metadata": {},
   "outputs": [],
   "source": [
    "## Inserting sample data into the 'users' table\n",
    "cursor.execute('''\n",
    "INSERT INTO users (name, age) VALUES\n",
    "('Aditya', 30),\n",
    "('Boby', 25),\n",
    "('Chunli', 35),\n",
    "('Alice', 30),\n",
    "('Bob', 25),\n",
    "('Charlie', 35)\n",
    "''')\n",
    "\n",
    "connection.commit()"
   ]
  },
  {
   "cell_type": "code",
   "execution_count": 17,
   "id": "5375228a",
   "metadata": {},
   "outputs": [
    {
     "name": "stdout",
     "output_type": "stream",
     "text": [
      "All records in 'users' table:\n",
      "\n",
      "(19, 'Aditya', 30)\n",
      "(20, 'Boby', 25)\n",
      "(21, 'Chunli', 35)\n",
      "(22, 'Alice', 30)\n",
      "(23, 'Bob', 25)\n",
      "(24, 'Charlie', 35)\n"
     ]
    }
   ],
   "source": [
    "## Displaying all records from the 'users' table\n",
    "cursor.execute(\"SELECT * FROM users\")\n",
    "rows = cursor.fetchall()\n",
    "print(\"All records in 'users' table:\\n\")\n",
    "for row in rows:\n",
    "    print(row)"
   ]
  },
  {
   "cell_type": "code",
   "execution_count": 18,
   "id": "c35ba36a",
   "metadata": {},
   "outputs": [
    {
     "name": "stdout",
     "output_type": "stream",
     "text": [
      "All records in 'users' table:\n",
      "\n",
      "(19, 'Aditya', 22)\n",
      "(20, 'Boby', 25)\n",
      "(21, 'Chunli', 35)\n",
      "(22, 'Alice', 30)\n",
      "(23, 'Bob', 25)\n",
      "(24, 'Charlie', 35)\n"
     ]
    }
   ],
   "source": [
    "## Updation of data in the 'users' table:\n",
    "cursor.execute('''\n",
    "UPDATE users\n",
    "SET age = 22\n",
    "WHERE name = 'Aditya'\n",
    "''')\n",
    "connection.commit()\n",
    "\n",
    "## Displaying all records from the 'users' table\n",
    "cursor.execute('SELECT * FROM users')\n",
    "rows = cursor.fetchall()\n",
    "print(\"All records in 'users' table:\\n\")\n",
    "for row in rows:\n",
    "    print(row)"
   ]
  },
  {
   "cell_type": "code",
   "execution_count": 19,
   "id": "7a333437",
   "metadata": {},
   "outputs": [
    {
     "name": "stdout",
     "output_type": "stream",
     "text": [
      "All records in 'users' table after deletion:\n",
      "\n",
      "(19, 'Aditya', 22)\n",
      "(21, 'Chunli', 35)\n",
      "(22, 'Alice', 30)\n",
      "(23, 'Bob', 25)\n",
      "(24, 'Charlie', 35)\n"
     ]
    }
   ],
   "source": [
    "## Deleting a record from the 'users' table\n",
    "cursor.execute('''\n",
    "DELETE FROM users\n",
    "WHERE name = 'Boby'\n",
    "''')\n",
    "connection.commit()\n",
    "\n",
    "## Displaying all records from the 'users' table after deletion\n",
    "cursor.execute('SELECT * FROM users')\n",
    "rows = cursor.fetchall()\n",
    "print(\"All records in 'users' table after deletion:\\n\")\n",
    "for row in rows:\n",
    "    print(row)"
   ]
  },
  {
   "cell_type": "code",
   "execution_count": 20,
   "id": "d6554cef",
   "metadata": {},
   "outputs": [],
   "source": [
    "## Closing the cursor and connection:\n",
    "cursor.close()\n",
    "connection.close()"
   ]
  }
 ],
 "metadata": {
  "kernelspec": {
   "display_name": "venv",
   "language": "python",
   "name": "python3"
  },
  "language_info": {
   "codemirror_mode": {
    "name": "ipython",
    "version": 3
   },
   "file_extension": ".py",
   "mimetype": "text/x-python",
   "name": "python",
   "nbconvert_exporter": "python",
   "pygments_lexer": "ipython3",
   "version": "3.13.5"
  }
 },
 "nbformat": 4,
 "nbformat_minor": 5
}
